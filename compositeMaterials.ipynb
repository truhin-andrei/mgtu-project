{
 "cells": [
  {
   "cell_type": "markdown",
   "id": "566ef732",
   "metadata": {},
   "source": [
    "## Кейс «Прогнозирование конечных свойств новых материалов (композиционных материалов)»"
   ]
  },
  {
   "cell_type": "markdown",
   "id": "c5083ab7",
   "metadata": {},
   "source": [
    "### Импорт библиотек"
   ]
  },
  {
   "cell_type": "code",
   "execution_count": 4,
   "id": "c64fc867",
   "metadata": {},
   "outputs": [],
   "source": [
    "import pandas as pd\n",
    "import numpy as np"
   ]
  },
  {
   "cell_type": "markdown",
   "id": "22d2e506",
   "metadata": {},
   "source": [
    "### Загрузка данных"
   ]
  },
  {
   "cell_type": "code",
   "execution_count": 12,
   "id": "36aa5d3d",
   "metadata": {},
   "outputs": [
    {
     "data": {
      "text/html": [
       "<div>\n",
       "<style scoped>\n",
       "    .dataframe tbody tr th:only-of-type {\n",
       "        vertical-align: middle;\n",
       "    }\n",
       "\n",
       "    .dataframe tbody tr th {\n",
       "        vertical-align: top;\n",
       "    }\n",
       "\n",
       "    .dataframe thead th {\n",
       "        text-align: right;\n",
       "    }\n",
       "</style>\n",
       "<table border=\"1\" class=\"dataframe\">\n",
       "  <thead>\n",
       "    <tr style=\"text-align: right;\">\n",
       "      <th></th>\n",
       "      <th>Соотношение матрица-наполнитель</th>\n",
       "      <th>Плотность, кг/м3</th>\n",
       "      <th>модуль упругости, ГПа</th>\n",
       "      <th>Количество отвердителя, м.%</th>\n",
       "      <th>Содержание эпоксидных групп,%_2</th>\n",
       "      <th>Температура вспышки, С_2</th>\n",
       "      <th>Поверхностная плотность, г/м2</th>\n",
       "      <th>Модуль упругости при растяжении, ГПа</th>\n",
       "      <th>Прочность при растяжении, МПа</th>\n",
       "      <th>Потребление смолы, г/м2</th>\n",
       "    </tr>\n",
       "  </thead>\n",
       "  <tbody>\n",
       "    <tr>\n",
       "      <th>0.0</th>\n",
       "      <td>1.857143</td>\n",
       "      <td>2030.0</td>\n",
       "      <td>738.736842</td>\n",
       "      <td>30.00</td>\n",
       "      <td>22.267857</td>\n",
       "      <td>100.000000</td>\n",
       "      <td>210.0</td>\n",
       "      <td>70.0</td>\n",
       "      <td>3000.0</td>\n",
       "      <td>220.0</td>\n",
       "    </tr>\n",
       "    <tr>\n",
       "      <th>1.0</th>\n",
       "      <td>1.857143</td>\n",
       "      <td>2030.0</td>\n",
       "      <td>738.736842</td>\n",
       "      <td>50.00</td>\n",
       "      <td>23.750000</td>\n",
       "      <td>284.615385</td>\n",
       "      <td>210.0</td>\n",
       "      <td>70.0</td>\n",
       "      <td>3000.0</td>\n",
       "      <td>220.0</td>\n",
       "    </tr>\n",
       "    <tr>\n",
       "      <th>2.0</th>\n",
       "      <td>1.857143</td>\n",
       "      <td>2030.0</td>\n",
       "      <td>738.736842</td>\n",
       "      <td>49.90</td>\n",
       "      <td>33.000000</td>\n",
       "      <td>284.615385</td>\n",
       "      <td>210.0</td>\n",
       "      <td>70.0</td>\n",
       "      <td>3000.0</td>\n",
       "      <td>220.0</td>\n",
       "    </tr>\n",
       "    <tr>\n",
       "      <th>3.0</th>\n",
       "      <td>1.857143</td>\n",
       "      <td>2030.0</td>\n",
       "      <td>738.736842</td>\n",
       "      <td>129.00</td>\n",
       "      <td>21.250000</td>\n",
       "      <td>300.000000</td>\n",
       "      <td>210.0</td>\n",
       "      <td>70.0</td>\n",
       "      <td>3000.0</td>\n",
       "      <td>220.0</td>\n",
       "    </tr>\n",
       "    <tr>\n",
       "      <th>4.0</th>\n",
       "      <td>2.771331</td>\n",
       "      <td>2030.0</td>\n",
       "      <td>753.000000</td>\n",
       "      <td>111.86</td>\n",
       "      <td>22.267857</td>\n",
       "      <td>284.615385</td>\n",
       "      <td>210.0</td>\n",
       "      <td>70.0</td>\n",
       "      <td>3000.0</td>\n",
       "      <td>220.0</td>\n",
       "    </tr>\n",
       "  </tbody>\n",
       "</table>\n",
       "</div>"
      ],
      "text/plain": [
       "     Соотношение матрица-наполнитель  Плотность, кг/м3  модуль упругости, ГПа  \\\n",
       "0.0                         1.857143            2030.0             738.736842   \n",
       "1.0                         1.857143            2030.0             738.736842   \n",
       "2.0                         1.857143            2030.0             738.736842   \n",
       "3.0                         1.857143            2030.0             738.736842   \n",
       "4.0                         2.771331            2030.0             753.000000   \n",
       "\n",
       "     Количество отвердителя, м.%  Содержание эпоксидных групп,%_2  \\\n",
       "0.0                        30.00                        22.267857   \n",
       "1.0                        50.00                        23.750000   \n",
       "2.0                        49.90                        33.000000   \n",
       "3.0                       129.00                        21.250000   \n",
       "4.0                       111.86                        22.267857   \n",
       "\n",
       "     Температура вспышки, С_2  Поверхностная плотность, г/м2  \\\n",
       "0.0                100.000000                          210.0   \n",
       "1.0                284.615385                          210.0   \n",
       "2.0                284.615385                          210.0   \n",
       "3.0                300.000000                          210.0   \n",
       "4.0                284.615385                          210.0   \n",
       "\n",
       "     Модуль упругости при растяжении, ГПа  Прочность при растяжении, МПа  \\\n",
       "0.0                                  70.0                         3000.0   \n",
       "1.0                                  70.0                         3000.0   \n",
       "2.0                                  70.0                         3000.0   \n",
       "3.0                                  70.0                         3000.0   \n",
       "4.0                                  70.0                         3000.0   \n",
       "\n",
       "     Потребление смолы, г/м2  \n",
       "0.0                    220.0  \n",
       "1.0                    220.0  \n",
       "2.0                    220.0  \n",
       "3.0                    220.0  \n",
       "4.0                    220.0  "
      ]
     },
     "execution_count": 12,
     "metadata": {},
     "output_type": "execute_result"
    }
   ],
   "source": [
    "x_bp = pd.read_excel('data/X_bp.xlsx', index_col =0)\n",
    "x_bp.head()"
   ]
  },
  {
   "cell_type": "code",
   "execution_count": 14,
   "id": "469cdec5",
   "metadata": {},
   "outputs": [
    {
     "data": {
      "text/plain": [
       "(1023, 10)"
      ]
     },
     "execution_count": 14,
     "metadata": {},
     "output_type": "execute_result"
    }
   ],
   "source": [
    "x_bp.shape"
   ]
  },
  {
   "cell_type": "code",
   "execution_count": 16,
   "id": "e9302d82",
   "metadata": {
    "scrolled": true
   },
   "outputs": [
    {
     "data": {
      "text/html": [
       "<div>\n",
       "<style scoped>\n",
       "    .dataframe tbody tr th:only-of-type {\n",
       "        vertical-align: middle;\n",
       "    }\n",
       "\n",
       "    .dataframe tbody tr th {\n",
       "        vertical-align: top;\n",
       "    }\n",
       "\n",
       "    .dataframe thead th {\n",
       "        text-align: right;\n",
       "    }\n",
       "</style>\n",
       "<table border=\"1\" class=\"dataframe\">\n",
       "  <thead>\n",
       "    <tr style=\"text-align: right;\">\n",
       "      <th></th>\n",
       "      <th>Угол нашивки, град</th>\n",
       "      <th>Шаг нашивки</th>\n",
       "      <th>Плотность нашивки</th>\n",
       "    </tr>\n",
       "  </thead>\n",
       "  <tbody>\n",
       "    <tr>\n",
       "      <th>0.0</th>\n",
       "      <td>0.0</td>\n",
       "      <td>4.0</td>\n",
       "      <td>57.0</td>\n",
       "    </tr>\n",
       "    <tr>\n",
       "      <th>1.0</th>\n",
       "      <td>0.0</td>\n",
       "      <td>4.0</td>\n",
       "      <td>60.0</td>\n",
       "    </tr>\n",
       "    <tr>\n",
       "      <th>2.0</th>\n",
       "      <td>0.0</td>\n",
       "      <td>4.0</td>\n",
       "      <td>70.0</td>\n",
       "    </tr>\n",
       "    <tr>\n",
       "      <th>3.0</th>\n",
       "      <td>0.0</td>\n",
       "      <td>5.0</td>\n",
       "      <td>47.0</td>\n",
       "    </tr>\n",
       "    <tr>\n",
       "      <th>4.0</th>\n",
       "      <td>0.0</td>\n",
       "      <td>5.0</td>\n",
       "      <td>57.0</td>\n",
       "    </tr>\n",
       "  </tbody>\n",
       "</table>\n",
       "</div>"
      ],
      "text/plain": [
       "     Угол нашивки, град  Шаг нашивки  Плотность нашивки\n",
       "0.0                 0.0          4.0               57.0\n",
       "1.0                 0.0          4.0               60.0\n",
       "2.0                 0.0          4.0               70.0\n",
       "3.0                 0.0          5.0               47.0\n",
       "4.0                 0.0          5.0               57.0"
      ]
     },
     "execution_count": 16,
     "metadata": {},
     "output_type": "execute_result"
    }
   ],
   "source": [
    "x_nup = pd.read_excel('data/X_nup.xlsx', index_col = 0)\n",
    "x_nup.head()\n"
   ]
  },
  {
   "cell_type": "code",
   "execution_count": 15,
   "id": "bc9fe006",
   "metadata": {},
   "outputs": [
    {
     "data": {
      "text/plain": [
       "(1040, 3)"
      ]
     },
     "execution_count": 15,
     "metadata": {},
     "output_type": "execute_result"
    }
   ],
   "source": [
    "x_nup.shape"
   ]
  },
  {
   "cell_type": "markdown",
   "id": "661d5c75",
   "metadata": {},
   "source": [
    "Объединение таблиц"
   ]
  },
  {
   "cell_type": "code",
   "execution_count": 19,
   "id": "95206e3e",
   "metadata": {},
   "outputs": [
    {
     "data": {
      "text/plain": [
       "(1023, 13)"
      ]
     },
     "execution_count": 19,
     "metadata": {},
     "output_type": "execute_result"
    }
   ],
   "source": [
    "df = x_bp.join(x_nup, how = 'inner')\n",
    "df.shape"
   ]
  },
  {
   "cell_type": "markdown",
   "id": "f58fb36e",
   "metadata": {},
   "source": [
    "### Изучение данных"
   ]
  },
  {
   "cell_type": "code",
   "execution_count": 23,
   "id": "848c3a8a",
   "metadata": {},
   "outputs": [
    {
     "name": "stdout",
     "output_type": "stream",
     "text": [
      "<class 'pandas.core.frame.DataFrame'>\n",
      "Float64Index: 1023 entries, 0.0 to 1022.0\n",
      "Data columns (total 13 columns):\n",
      " #   Column                                Non-Null Count  Dtype  \n",
      "---  ------                                --------------  -----  \n",
      " 0   Соотношение матрица-наполнитель       1023 non-null   float64\n",
      " 1   Плотность, кг/м3                      1023 non-null   float64\n",
      " 2   модуль упругости, ГПа                 1023 non-null   float64\n",
      " 3   Количество отвердителя, м.%           1023 non-null   float64\n",
      " 4   Содержание эпоксидных групп,%_2       1023 non-null   float64\n",
      " 5   Температура вспышки, С_2              1023 non-null   float64\n",
      " 6   Поверхностная плотность, г/м2         1023 non-null   float64\n",
      " 7   Модуль упругости при растяжении, ГПа  1023 non-null   float64\n",
      " 8   Прочность при растяжении, МПа         1023 non-null   float64\n",
      " 9   Потребление смолы, г/м2               1023 non-null   float64\n",
      " 10  Угол нашивки, град                    1023 non-null   float64\n",
      " 11  Шаг нашивки                           1023 non-null   float64\n",
      " 12  Плотность нашивки                     1023 non-null   float64\n",
      "dtypes: float64(13)\n",
      "memory usage: 111.9 KB\n"
     ]
    }
   ],
   "source": [
    "df.info()"
   ]
  },
  {
   "cell_type": "code",
   "execution_count": 24,
   "id": "1142a0e9",
   "metadata": {},
   "outputs": [
    {
     "data": {
      "text/plain": [
       "Соотношение матрица-наполнитель         1014\n",
       "Плотность, кг/м3                        1013\n",
       "модуль упругости, ГПа                   1020\n",
       "Количество отвердителя, м.%             1005\n",
       "Содержание эпоксидных групп,%_2         1004\n",
       "Температура вспышки, С_2                1003\n",
       "Поверхностная плотность, г/м2           1004\n",
       "Модуль упругости при растяжении, ГПа    1004\n",
       "Прочность при растяжении, МПа           1004\n",
       "Потребление смолы, г/м2                 1003\n",
       "Угол нашивки, град                         2\n",
       "Шаг нашивки                              989\n",
       "Плотность нашивки                        988\n",
       "dtype: int64"
      ]
     },
     "execution_count": 24,
     "metadata": {},
     "output_type": "execute_result"
    }
   ],
   "source": [
    "df.nunique()"
   ]
  },
  {
   "cell_type": "code",
   "execution_count": 27,
   "id": "4290fb0a",
   "metadata": {
    "scrolled": true
   },
   "outputs": [
    {
     "data": {
      "text/plain": [
       "Соотношение матрица-наполнитель         0\n",
       "Плотность, кг/м3                        0\n",
       "модуль упругости, ГПа                   0\n",
       "Количество отвердителя, м.%             0\n",
       "Содержание эпоксидных групп,%_2         0\n",
       "Температура вспышки, С_2                0\n",
       "Поверхностная плотность, г/м2           0\n",
       "Модуль упругости при растяжении, ГПа    0\n",
       "Прочность при растяжении, МПа           0\n",
       "Потребление смолы, г/м2                 0\n",
       "Угол нашивки, град                      0\n",
       "Шаг нашивки                             0\n",
       "Плотность нашивки                       0\n",
       "dtype: int64"
      ]
     },
     "execution_count": 27,
     "metadata": {},
     "output_type": "execute_result"
    }
   ],
   "source": [
    "df.isna().sum()"
   ]
  },
  {
   "cell_type": "code",
   "execution_count": null,
   "id": "50040f91",
   "metadata": {},
   "outputs": [],
   "source": []
  }
 ],
 "metadata": {
  "kernelspec": {
   "display_name": "Python 3 (ipykernel)",
   "language": "python",
   "name": "python3"
  },
  "language_info": {
   "codemirror_mode": {
    "name": "ipython",
    "version": 3
   },
   "file_extension": ".py",
   "mimetype": "text/x-python",
   "name": "python",
   "nbconvert_exporter": "python",
   "pygments_lexer": "ipython3",
   "version": "3.9.12"
  }
 },
 "nbformat": 4,
 "nbformat_minor": 5
}
